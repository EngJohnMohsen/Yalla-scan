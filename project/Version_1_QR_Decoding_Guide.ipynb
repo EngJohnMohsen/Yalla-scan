{
  "cells": [
    {
      "cell_type": "markdown",
      "metadata": {
        "id": "erPYGitnbDOL"
      },
      "source": [
        "# Imports"
      ]
    },
    {
      "cell_type": "code",
      "execution_count": 2,
      "metadata": {
        "id": "fxUgLK_uYEoH"
      },
      "outputs": [],
      "source": [
        "import cv2\n",
        "import numpy as np\n",
        "import matplotlib.pyplot as plt"
      ]
    },
    {
      "cell_type": "markdown",
      "metadata": {
        "id": "B6wrZuSPbIMc"
      },
      "source": [
        "# About QR codes\n",
        "###### *Main reference:* &nbsp;&nbsp; https://en.wikipedia.org/wiki/QR_code\n",
        "###### *Useful video:* &nbsp;&nbsp; https://youtu.be/KA8hDldvfv0\n",
        "\n",
        "<br/>\n",
        "<br/>\n",
        "\n",
        "First, let's see what a QR code is made up of...\n",
        "\n",
        "![Structure of a QR code (version 7), highlighting functional elements.](https://upload.wikimedia.org/wikipedia/commons/thumb/1/1d/QR_Code_Structure_Example_3.svg/1280px-QR_Code_Structure_Example_3.svg.png)\n",
        "> *Structure of a QR code (version 7), highlighting functional elements.*\n",
        "\n",
        "<br/>\n",
        "<br/>\n",
        "\n",
        "## 1. Version Information\n",
        "The top-right finder pattern cell has a short field of data that is contained there. This lets us know which QR code version is being scanned.\n",
        "\n",
        "The two blue version information boxes in the example image above are mirror images of each other.\n",
        "\n",
        "Version and format information is doubly redundant in QR codes.\n",
        "## 2. Format information\n",
        "\n",
        "The red format information next to the bottom locator box matches the format information below the top left locator box, and the red format information below the top right locator box matches the format information to the right of the top left locator box.\n",
        "\n",
        "Version and format information is doubly redundant in QR codes.\n",
        "\n",
        "![Meaning of format information.](https://upload.wikimedia.org/wikipedia/commons/thumb/3/3b/QR_Format_Information.svg/1024px-QR_Format_Information.svg.png)\n",
        "> *Meaning of format information.*\n",
        "\n",
        "<br/>\n",
        "<br/>\n",
        "\n",
        "## 3. Data (incl. error correction)\n",
        "The message that the QR code includes, with error correction redundancy.\n",
        "\n",
        "![Message placement within a Ver 1 QR symbol (21×21).](https://upload.wikimedia.org/wikipedia/commons/thumb/2/21/QR_Character_Placement.svg/640px-QR_Character_Placement.svg.png)\n",
        "> *Message placement within a Ver 1 QR symbol (21×21).*\n",
        "\n",
        "<br/>\n",
        "<br/>\n",
        "\n",
        "## 4. Other patterns\n",
        "### 4.1. Position (locator/finder) pattern\n",
        "The three large squares (\"locator boxes\") at the corners of the QR code give you enough information about the location and overall orientation of the QR code. They are 7x7 black and white cells, surrounded by white padding wrt their position.\n",
        "\n",
        "If you can identify those three squares in an image, then you have identified that a QR code exists within their contour.\n",
        "### 4.2 Alignment pattern\n",
        "This pattern of squares ensures that you get the orientation of the QR code right, in case it is tilted or skewed.\n",
        "### 4.3 Timing pattern\n",
        "This L-shaped pattern connects the three squares. A damaged QR code can still be read because of the timing pattern, which enables the reader to distinguish between specific squares within the entire code.\n",
        "\n",
        "It is composed of alternating black and white pixels, starting with a black pixel right after the locator box white border.\n",
        "## 5. Quiet Zone\n",
        "This is the perimeter of a QR code. It is blank (white).\n",
        "\n",
        "A QR reader needs this border to distinguish what is and isn't contained in the QR code (due to interference from outside elements)."
      ]
    },
    {
      "cell_type": "markdown",
      "metadata": {
        "id": "LR1VX936t9mz"
      },
      "source": [
        "# Example"
      ]
    },
    {
      "cell_type": "markdown",
      "metadata": {
        "id": "Sx92FgkX9FQu"
      },
      "source": [
        "## Import and binarize\n",
        "Must make sure that the image is full of 0s or 255s for further processing"
      ]
    },
    {
      "cell_type": "code",
      "execution_count": 3,
      "metadata": {},
      "outputs": [
        {
          "data": {
            "image/png": "[encoded data removed]",
            "text/plain": [
              "<Figure size 500x500 with 1 Axes>"
            ]
          },
          "metadata": {},
          "output_type": "display_data"
        }
      ],
      "source": [
        "import cv2\n",
        "import matplotlib.pyplot as plt\n",
        "\n",
        "# Load the image\n",
        "img = cv2.imread(\"01-Getting-started.png\", cv2.IMREAD_GRAYSCALE)\n",
        "\n",
        "# Check if the image is loaded successfully\n",
        "if img is None:\n",
        "    print(\"Error: Unable to load image.\")\n",
        "else:\n",
        "    # Apply thresholding\n",
        "    _, img = cv2.threshold(img, 128, 255, cv2.THRESH_BINARY)\n",
        "\n",
        "    # Display the image\n",
        "    fig = plt.figure(figsize=(5, 5))\n",
        "    plt.xticks([], [])\n",
        "    plt.yticks([], [])\n",
        "    plt.title('Example QR code')\n",
        "    plt.imshow(img, cmap='gray')\n",
        "    plt.show()\n"
      ]
    },
    {
      "cell_type": "code",
      "execution_count": 5,
      "metadata": {
        "colab": {
          "base_uri": "https://localhost:8080/",
          "height": 444
        },
        "id": "BCBUacpyaC-L",
        "outputId": "4b891ee9-190e-47e2-db83-62d926c3e89a"
      },
      "outputs": [
        {
          "data": {
            "image/png": "[encoded data removed]",
            "text/plain": [
              "<Figure size 500x500 with 1 Axes>"
            ]
          },
          "metadata": {},
          "output_type": "display_data"
        }
      ],
      "source": [
        "img = cv2.imread(\"01-Getting-started.png\", cv2.IMREAD_GRAYSCALE)\n",
        "_, img = cv2.threshold(img, 128, 255, cv2.THRESH_BINARY)\n",
        "fig = plt.figure(figsize=(5, 5));\n",
        "plt.xticks([], []);\n",
        "plt.yticks([], []);\n",
        "plt.title('Example QR code')\n",
        "plt.imshow(img, cmap='gray');"
      ]
    },
    {
      "cell_type": "markdown",
      "metadata": {
        "id": "i9sueIhN9J20"
      },
      "source": [
        "## Use quiet zone to detect code area\n",
        "Simply go through white rows and columns until you find the first black pixel from the left, from the right, from the top, and from the bottom."
      ]
    },
    {
      "cell_type": "code",
      "execution_count": 6,
      "metadata": {
        "colab": {
          "base_uri": "https://localhost:8080/"
        },
        "id": "-lqJGLTsuHHr",
        "outputId": "d4705b22-3a16-4f51-e24f-8c7003d84049"
      },
      "outputs": [
        {
          "name": "stdout",
          "output_type": "stream",
          "text": [
            "44 968 44 968\n"
          ]
        }
      ],
      "source": [
        "start_row = -1\n",
        "start_col = -1\n",
        "end_row = -1\n",
        "end_col = -1\n",
        "\n",
        "for row_index, row in enumerate(img):\n",
        "    for pixel in row:\n",
        "        if pixel != 255:\n",
        "            start_row = row_index\n",
        "            break\n",
        "    if start_row != -1:\n",
        "        break\n",
        "\n",
        "for row_index, row in enumerate(img[::-1]):\n",
        "    for pixel in row:\n",
        "        if pixel != 255:\n",
        "            end_row = img.shape[0] - row_index\n",
        "            break\n",
        "    if end_row != -1:\n",
        "        break\n",
        "\n",
        "for col_index, col in enumerate(cv2.transpose(img)):\n",
        "    for pixel in col:\n",
        "        if pixel != 255:\n",
        "            start_col = col_index\n",
        "            break\n",
        "    if start_col != -1:\n",
        "        break\n",
        "\n",
        "for col_index, col in enumerate(cv2.transpose(img)[::-1]):\n",
        "    for pixel in col:\n",
        "        if pixel != 255:\n",
        "            end_col = img.shape[1] - col_index\n",
        "            break\n",
        "    if end_col != -1:\n",
        "        break\n",
        "\n",
        "print(start_row, end_row, start_col, end_col)"
      ]
    },
    {
      "cell_type": "code",
      "execution_count": 7,
      "metadata": {
        "colab": {
          "base_uri": "https://localhost:8080/",
          "height": 529
        },
        "id": "tuIclWxj8SFf",
        "outputId": "0fad7959-e9a3-4fcb-e9b0-758661358178"
      },
      "outputs": [
        {
          "data": {
            "image/png": "[encoded data removed]",
            "text/plain": [
              "<Figure size 500x500 with 1 Axes>"
            ]
          },
          "metadata": {},
          "output_type": "display_data"
        }
      ],
      "source": [
        "qr_no_quiet_zone = img[start_row:end_row, start_col:end_col]\n",
        "fig = plt.figure(figsize=(5, 5));\n",
        "plt.xticks([], []);\n",
        "plt.yticks([], []);\n",
        "fig.get_axes()[0].spines[:].set_color('red');\n",
        "fig.get_axes()[0].spines[:].set_linewidth(40);\n",
        "fig.get_axes()[0].spines[:].set_position((\"outward\", 20))\n",
        "plt.title('QR code without quiet zone', y = 1.15, color='red');\n",
        "plt.imshow(qr_no_quiet_zone, cmap='gray');"
      ]
    },
    {
      "cell_type": "markdown",
      "metadata": {
        "id": "9jSlBhus-GiQ"
      },
      "source": [
        "## Use locator boxes to determine grid size\n",
        "Since we know that the topleft pixel should be the border of the locator box, and that its size should be 7×7, we can determine the grid cell size by dividing its size in pixels by 7. How to get its size? It is a constant black row of pixels followed by one white cell. A simple for loop can get it done."
      ]
    },
    {
      "cell_type": "code",
      "execution_count": 8,
      "metadata": {
        "colab": {
          "base_uri": "https://localhost:8080/"
        },
        "id": "RsYQQprN-JAS",
        "outputId": "dea0db46-e860-435d-a10e-8d80e78dc640"
      },
      "outputs": [
        {
          "name": "stdout",
          "output_type": "stream",
          "text": [
            "308\n"
          ]
        }
      ],
      "source": [
        "size = 0\n",
        "for pixel in qr_no_quiet_zone[0]:\n",
        "    if (pixel != 0): break\n",
        "    size += 1\n",
        "\n",
        "print(size)"
      ]
    },
    {
      "cell_type": "code",
      "execution_count": 9,
      "metadata": {
        "colab": {
          "base_uri": "https://localhost:8080/"
        },
        "id": "PdQ1wjF4PiO-",
        "outputId": "00414c73-16ab-4333-ae8a-39337c28f9f1"
      },
      "outputs": [
        {
          "name": "stdout",
          "output_type": "stream",
          "text": [
            "44\n"
          ]
        }
      ],
      "source": [
        "# Therefore the grid cell size is..\n",
        "grid_cell_size = round(size/7)\n",
        "print(grid_cell_size)"
      ]
    },
    {
      "cell_type": "code",
      "execution_count": 10,
      "metadata": {
        "colab": {
          "base_uri": "https://localhost:8080/"
        },
        "id": "aA8n99IwUIjh",
        "outputId": "5ab60b02-cfe1-4b50-b216-fd12ee8584f0"
      },
      "outputs": [
        {
          "name": "stdout",
          "output_type": "stream",
          "text": [
            "21\n"
          ]
        }
      ],
      "source": [
        "# And it each row/column is expected to have the following no. of qr_cells\n",
        "grid_cells_num = round(qr_no_quiet_zone.shape[0]/grid_cell_size)\n",
        "print(grid_cells_num)"
      ]
    },
    {
      "cell_type": "code",
      "execution_count": 11,
      "metadata": {
        "colab": {
          "base_uri": "https://localhost:8080/"
        },
        "id": "fHbjcaJMREFb",
        "outputId": "9d1d7fde-ccf6-42a3-a7e1-1bd5f9c7e07f"
      },
      "outputs": [
        {
          "name": "stdout",
          "output_type": "stream",
          "text": [
            "(924, 924)\n"
          ]
        }
      ],
      "source": [
        "# So now it is time to split the following shape...\n",
        "print(qr_no_quiet_zone.shape)"
      ]
    },
    {
      "cell_type": "code",
      "execution_count": 12,
      "metadata": {
        "colab": {
          "base_uri": "https://localhost:8080/"
        },
        "id": "xaYxuP80Pk8m",
        "outputId": "41fd66fd-ac8c-44e4-c262-62b367683538"
      },
      "outputs": [
        {
          "name": "stdout",
          "output_type": "stream",
          "text": [
            "(21, 21, 44, 44)\n"
          ]
        }
      ],
      "source": [
        "# ...into grid cells\n",
        "qr_cells = qr_no_quiet_zone.reshape((\n",
        "    grid_cells_num,\n",
        "    grid_cell_size,\n",
        "    grid_cells_num,\n",
        "    grid_cell_size,\n",
        ")).swapaxes(1, 2)\n",
        "print(qr_cells.shape)"
      ]
    },
    {
      "cell_type": "code",
      "execution_count": 13,
      "metadata": {
        "colab": {
          "base_uri": "https://localhost:8080/",
          "height": 422
        },
        "id": "2-ZXn5NoRTTT",
        "outputId": "d70f1950-ca2a-4a46-a484-6fb5a899dd65"
      },
      "outputs": [
        {
          "data": {
            "image/png": "[encoded data removed]",
            "text/plain": [
              "<Figure size 500x500 with 441 Axes>"
            ]
          },
          "metadata": {},
          "output_type": "display_data"
        }
      ],
      "source": [
        "_, axes = plt.subplots(grid_cells_num, grid_cells_num, figsize=(5, 5))\n",
        "for i, row in enumerate(axes):\n",
        "    for j, col in enumerate(row):\n",
        "        col.imshow(qr_cells[i][j], cmap=\"gray\", vmin=0, vmax=255)\n",
        "        col.get_xaxis().set_visible(False)\n",
        "        col.get_yaxis().set_visible(False)\n",
        "        col.spines[:].set_color('red')"
      ]
    },
    {
      "cell_type": "markdown",
      "metadata": {
        "id": "Qd6ksq6mW3SP"
      },
      "source": [
        "## Convert grid tiles to numeric values"
      ]
    },
    {
      "cell_type": "code",
      "execution_count": null,
      "metadata": {
        "colab": {
          "base_uri": "https://localhost:8080/"
        },
        "id": "6yyfDhQHW8Jz",
        "outputId": "49ef6077-722a-44b4-f42a-45941f9a477b"
      },
      "outputs": [
        {
          "name": "stdout",
          "output_type": "stream",
          "text": [
            "[[0 0 0 0 0 0 0 1 0 0 1 1 1 1 0 0 0 0 0 0 0]\n",
            " [0 1 1 1 1 1 0 1 1 0 1 0 1 1 0 1 1 1 1 1 0]\n",
            " [0 1 0 0 0 1 0 1 0 1 0 1 1 1 0 1 0 0 0 1 0]\n",
            " [0 1 0 0 0 1 0 1 0 1 0 0 0 1 0 1 0 0 0 1 0]\n",
            " [0 1 0 0 0 1 0 1 0 1 1 0 0 1 0 1 0 0 0 1 0]\n",
            " [0 1 1 1 1 1 0 1 1 0 0 0 1 1 0 1 1 1 1 1 0]\n",
            " [0 0 0 0 0 0 0 1 0 1 0 1 0 1 0 0 0 0 0 0 0]\n",
            " [1 1 1 1 1 1 1 1 1 1 1 0 1 1 1 1 1 1 1 1 1]\n",
            " [0 0 0 0 1 1 0 1 0 1 0 0 0 0 1 1 0 0 0 1 0]\n",
            " [1 0 1 1 1 1 1 0 0 1 1 1 1 1 1 1 1 0 0 1 0]\n",
            " [0 0 0 1 0 1 0 1 1 0 1 1 1 0 0 0 1 1 1 0 0]\n",
            " [1 1 0 0 1 1 1 1 1 0 1 1 0 1 1 1 0 0 1 0 1]\n",
            " [0 1 1 1 0 1 0 1 0 1 0 1 0 0 1 0 1 1 1 1 0]\n",
            " [1 1 1 1 1 1 1 1 0 0 0 1 0 1 0 1 0 1 0 1 0]\n",
            " [0 0 0 0 0 0 0 1 1 1 1 0 1 0 0 1 0 1 1 1 1]\n",
            " [0 1 1 1 1 1 0 1 1 0 1 0 1 1 1 0 1 0 0 0 1]\n",
            " [0 1 0 0 0 1 0 1 1 1 1 1 0 1 1 0 0 0 0 1 0]\n",
            " [0 1 0 0 0 1 0 1 0 0 1 1 0 0 1 1 1 0 0 1 1]\n",
            " [0 1 0 0 0 1 0 1 0 1 0 0 0 1 1 0 1 1 0 1 1]\n",
            " [0 1 1 1 1 1 0 1 0 1 0 1 0 0 0 0 0 1 1 1 0]\n",
            " [0 0 0 0 0 0 0 1 0 0 0 0 1 1 1 0 1 1 0 1 1]]\n"
          ]
        }
      ],
      "source": [
        "qr_cells_numeric = np.ndarray((grid_cells_num, grid_cells_num), dtype=np.uint8)\n",
        "for i, row in enumerate(qr_cells):\n",
        "    for j, cell in enumerate(row):\n",
        "        qr_cells_numeric[i, j] = (np.median(cell) // 255)\n",
        "\n",
        "print(qr_cells_numeric)"
      ]
    },
    {
      "cell_type": "markdown",
      "metadata": {
        "id": "8smktSlIaOQo"
      },
      "source": [
        "## Information extraction\n",
        "\n",
        "![Meaning of format information.](https://upload.wikimedia.org/wikipedia/commons/thumb/3/3b/QR_Format_Information.svg/640px-QR_Format_Information.svg.png)\n",
        "> *Meaning of format information.*"
      ]
    },
    {
      "cell_type": "markdown",
      "metadata": {
        "id": "2aqZ9Ym6eXcp"
      },
      "source": [
        "### Error correction level"
      ]
    },
    {
      "cell_type": "code",
      "execution_count": null,
      "metadata": {
        "colab": {
          "base_uri": "https://localhost:8080/"
        },
        "id": "3OQ3XYkQeW93",
        "outputId": "1ad34a03-2ec4-4af6-83ac-52573b1da1e3"
      },
      "outputs": [
        {
          "data": {
            "text/plain": [
              "array([0, 0, 0, 0, 1, 1, 0, 1, 0, 1, 0, 0, 0, 0, 1, 1, 0, 0, 0, 1, 0],\n",
              "      dtype=uint8)"
            ]
          },
          "execution_count": 432,
          "metadata": {},
          "output_type": "execute_result"
        }
      ],
      "source": [
        "# We want row #8\n",
        "qr_cells_numeric[8]"
      ]
    },
    {
      "cell_type": "code",
      "execution_count": null,
      "metadata": {
        "colab": {
          "base_uri": "https://localhost:8080/"
        },
        "id": "DftQienjiFdh",
        "outputId": "6a8ae2c9-30c9-4053-f56f-854a567f7406"
      },
      "outputs": [
        {
          "name": "stdout",
          "output_type": "stream",
          "text": [
            "[1, 1]\n"
          ]
        }
      ],
      "source": [
        "# The first two bits determine the error correction level\n",
        "# Level L (Low)         [11]\t7%  of data bytes can be restored.\n",
        "# Level M (Medium)      [10]\t15% of data bytes can be restored.\n",
        "# Level Q (Quartile)    [01]\t25% of data bytes can be restored.\n",
        "# Level H (High)        [00]\t30% of data bytes can be restored.\n",
        "ecl = [int(not(c)) for c in qr_cells_numeric[8, 0:2]]\n",
        "# Why \"not\"? Because the standard uses '1's for black and '0's for white\n",
        "#\n",
        "# \"A dark module is a binary one and a light module is a binary zero.\"\n",
        "#  - ISO/IEC 18004:2000(E)\n",
        "#\n",
        "# In image processing, we use them the other way.. Hence the inversion\n",
        "print(ecl)"
      ]
    },
    {
      "cell_type": "markdown",
      "metadata": {
        "id": "pHqp3VFJg4GK"
      },
      "source": [
        "### Mask pattern"
      ]
    },
    {
      "cell_type": "code",
      "execution_count": null,
      "metadata": {
        "colab": {
          "base_uri": "https://localhost:8080/"
        },
        "id": "Km07iIWxg-gI",
        "outputId": "a83cd161-74dd-4d32-a95a-df47c3821c93"
      },
      "outputs": [
        {
          "name": "stdout",
          "output_type": "stream",
          "text": [
            "110\n"
          ]
        }
      ],
      "source": [
        "# Dictionary of all masks and their equivalent formulae\n",
        "MASKS = {\n",
        "    \"000\": lambda i, j: (i * j) % 2 + (i * j) % 3 == 0,\n",
        "    \"001\": lambda i, j: (i / 2 + j / 3) % 2 == 0,\n",
        "    \"010\": lambda i, j: ((i * j) % 3 + i + j) % 2 == 0,\n",
        "    \"011\": lambda i, j: ((i * j) % 3 + i * j) % 2 == 0,\n",
        "    \"100\": lambda i, j: i % 2 == 0,\n",
        "    \"101\": lambda i, j: (i + j) % 2 == 0,\n",
        "    \"110\": lambda i, j: (i + j) % 3 == 0,\n",
        "    \"111\": lambda i, j: j % 3 == 0,\n",
        "}\n",
        "\n",
        "# Same row as above, the three cells after the ecl cells (converted to a string)\n",
        "mask = [int(not(c)) for c in qr_cells_numeric[8, 2:5]]\n",
        "mask_str = ''.join([str(c) for c in mask])\n",
        "print(mask_str)"
      ]
    },
    {
      "cell_type": "markdown",
      "metadata": {
        "id": "BJWaqVBYg7Gz"
      },
      "source": [
        "### Format error correction"
      ]
    },
    {
      "cell_type": "code",
      "execution_count": null,
      "metadata": {
        "colab": {
          "base_uri": "https://localhost:8080/"
        },
        "id": "d1uHpA5oXXeN",
        "outputId": "c5a466a7-81e9-4987-8040-2fbdf4a595d5"
      },
      "outputs": [
        {
          "name": "stdout",
          "output_type": "stream",
          "text": [
            "[0, 0, 1, 0, 1, 1, 1, 0, 0, 1]\n"
          ]
        }
      ],
      "source": [
        "# Same row as above, but we want cells #5 and #7 (#6 is always set to 0),\n",
        "#  followed by column #8 from cell #0 in it to cell #7 (and skipping #6)\n",
        "fec = []\n",
        "fec.append(qr_cells_numeric[8, 5])\n",
        "fec.append(qr_cells_numeric[8, 7])\n",
        "fec.extend(qr_cells_numeric[0:6, 8])\n",
        "fec.extend(qr_cells_numeric[7:9, 8])\n",
        "fec = [int(not(c)) for c in fec]\n",
        "print(fec)"
      ]
    },
    {
      "cell_type": "code",
      "execution_count": null,
      "metadata": {
        "colab": {
          "base_uri": "https://localhost:8080/"
        },
        "id": "WMKYiQA-qzbq",
        "outputId": "9ff4493d-8a91-4fc7-c330-68e7a5a3ab2e"
      },
      "outputs": [
        {
          "name": "stdout",
          "output_type": "stream",
          "text": [
            "[1, 1] [1, 1, 0] [0, 0, 1, 0, 1, 1, 1, 0, 0, 1]\n"
          ]
        }
      ],
      "source": [
        "# So in total we have the following 15 bits of format info from our QR code\n",
        "print(ecl, mask, fec)"
      ]
    },
    {
      "cell_type": "code",
      "execution_count": null,
      "metadata": {
        "colab": {
          "base_uri": "https://localhost:8080/",
          "height": 422
        },
        "id": "PQ0vjyjYbYij",
        "outputId": "f41627d5-39f3-4714-e17c-daaa5201c1e3"
      },
      "outputs": [
        {
          "data": {
            "image/png": "[encoded data removed]",
            "text/plain": [
              "<Figure size 500x500 with 441 Axes>"
            ]
          },
          "metadata": {},
          "output_type": "display_data"
        }
      ],
      "source": [
        "# Let's cross-check with our example\n",
        "_, axes = plt.subplots(grid_cells_num, grid_cells_num, figsize=(5, 5))\n",
        "for i, row in enumerate(axes):\n",
        "    for j, col in enumerate(row):\n",
        "\n",
        "        col.get_xaxis().set_visible(False)\n",
        "        col.get_yaxis().set_visible(False)\n",
        "        if (i == 8 and j <= 8) or (i <= 8 and j == 8):\n",
        "            if (i != 6) and (j != 6):\n",
        "                col.imshow(qr_cells[i][j], cmap=\"gray\", vmin=0, vmax=255)\n",
        "                col.spines[:].set_color('red')\n",
        "                continue\n",
        "        col.imshow(qr_cells[i][j], cmap=\"gray\", vmin=-1275, vmax=510)"
      ]
    },
    {
      "cell_type": "code",
      "execution_count": null,
      "metadata": {
        "colab": {
          "base_uri": "https://localhost:8080/"
        },
        "id": "8iLNLbZwcLG6",
        "outputId": "a6e716dd-d7ee-41a0-a80d-003d448db0ee"
      },
      "outputs": [
        {
          "name": "stdout",
          "output_type": "stream",
          "text": [
            "[0, 1] [0, 1, 1] [0, 0, 1, 0, 1, 0, 1, 0, 1, 1]\n"
          ]
        }
      ],
      "source": [
        "# However..... You need to XOR that with the \"format mask\": 101010000010010\n",
        "ecl[0] ^= 1\n",
        "mask[0] ^= 1\n",
        "mask[2] ^= 1\n",
        "fec[5] ^= 1\n",
        "fec[8] ^= 1\n",
        "\n",
        "# And now we print...\n",
        "print(ecl, mask, fec)"
      ]
    },
    {
      "cell_type": "markdown",
      "metadata": {
        "id": "WMxszDsfhF_Q"
      },
      "source": [
        "## Data extraction\n",
        "\n",
        "![Message placement within a Ver 1 QR symbol (21×21).](https://upload.wikimedia.org/wikipedia/commons/thumb/2/21/QR_Character_Placement.svg/640px-QR_Character_Placement.svg.png)\n",
        "> *Message placement within a Ver 1 QR symbol (21×21). Example from wikipedia, encoded QR message is www.wikipedia.org*"
      ]
    },
    {
      "cell_type": "code",
      "execution_count": null,
      "metadata": {
        "id": "TYeu5EEF22r6"
      },
      "outputs": [],
      "source": [
        "# Before we proceed, let's write a function for masking to make our lives easier\n",
        "UP, UP_ENC, DOWN, CW, CCW = range(5)  # A rather old-fashioned pythonic \"Enum\"\n",
        "\n",
        "def apply_mask(data_start_i, data_start_j, direction):\n",
        "    '''\n",
        "    data_start_i/j represent the first cell's coords in its respective direction\n",
        "    direction is the masking direction, up(-enc)/down/clockwise/anti-clockwise\n",
        "    '''\n",
        "    result = []\n",
        "    row_offsets = []\n",
        "    col_offsets = []\n",
        "    if (direction in [UP, UP_ENC]):\n",
        "        row_offsets = [0,  0, -1, -1, -2, -2, -3, -3]\n",
        "        col_offsets = [0, -1,  0, -1,  0, -1,  0, -1]\n",
        "    if (direction == DOWN):\n",
        "        row_offsets = [0,  0,  1,  1,  2,  2,  3,  3]\n",
        "        col_offsets = [0, -1,  0, -1,  0, -1,  0, -1]\n",
        "    if (direction == CW):\n",
        "        row_offsets = [0,  0,  1,  1,  1,  1,  0,  0]\n",
        "        col_offsets = [0, -1,  0, -1, -2, -3, -2, -3]\n",
        "    if (direction == CCW):\n",
        "        row_offsets = [0,  0, -1, -1, -1, -1,  0,  0]\n",
        "        col_offsets = [0, -1,  0, -1, -2, -3, -2, -3]\n",
        "\n",
        "    for i, j in zip(row_offsets, col_offsets):\n",
        "        cell = qr_cells_numeric[data_start_i+i, data_start_j+j]\n",
        "        result.append(int(cell if MASKS[mask_str](data_start_i+i, data_start_j+j) else not cell))\n",
        "\n",
        "    return result[:4] if direction == UP_ENC else result"
      ]
    },
    {
      "cell_type": "markdown",
      "metadata": {
        "id": "mHnX6w8Yvz9e"
      },
      "source": [
        "### Data encoding"
      ]
    },
    {
      "cell_type": "code",
      "execution_count": null,
      "metadata": {
        "colab": {
          "base_uri": "https://localhost:8080/"
        },
        "id": "sMKnJyYHhHKl",
        "outputId": "baa15aa9-0ffb-4ee4-d283-a43767ce6ce5"
      },
      "outputs": [
        {
          "name": "stdout",
          "output_type": "stream",
          "text": [
            "[0, 1, 0, 0]\n"
          ]
        }
      ],
      "source": [
        "enc = apply_mask(grid_cells_num-1, grid_cells_num-1, UP_ENC)\n",
        "print(enc)"
      ]
    },
    {
      "cell_type": "markdown",
      "metadata": {
        "id": "_Es8SoZ02lct"
      },
      "source": [
        "### Data length"
      ]
    },
    {
      "cell_type": "code",
      "execution_count": null,
      "metadata": {
        "colab": {
          "base_uri": "https://localhost:8080/"
        },
        "id": "JZ5ml6N02kC3",
        "outputId": "f7a06e03-de24-4134-f291-aa903d6ef6cb"
      },
      "outputs": [
        {
          "name": "stdout",
          "output_type": "stream",
          "text": [
            "[0, 0, 0, 1, 0, 0, 0, 1]\n"
          ]
        }
      ],
      "source": [
        "len = apply_mask(grid_cells_num-3, grid_cells_num-1, UP)\n",
        "print(len)"
      ]
    },
    {
      "cell_type": "markdown",
      "metadata": {
        "id": "ugMlyRLEHX-V"
      },
      "source": [
        "### Data extraction"
      ]
    },
    {
      "cell_type": "code",
      "execution_count": null,
      "metadata": {
        "colab": {
          "base_uri": "https://localhost:8080/"
        },
        "id": "2C9MtuNJHY0m",
        "outputId": "f45e7fc6-3d05-400a-f6f0-bb4250e86177"
      },
      "outputs": [
        {
          "name": "stdout",
          "output_type": "stream",
          "text": [
            "01001000 = H\n",
            "01100101 = e\n",
            "01101100 = l\n",
            "01101100 = l\n",
            "01101111 = o\n",
            "00101100 = ,\n",
            "00100000 =  \n",
            "01010001 = Q\n",
            "01010010 = R\n",
            "00100000 =  \n",
            "01010111 = W\n",
            "01101111 = o\n",
            "01110010 = r\n",
            "01101100 = l\n",
            "01100100 = d\n",
            "00100001 = !\n",
            "00110001 = 1\n",
            "0000 = 0 (NULL TERMINATOR)\n",
            "\n",
            "Decoded string: Hello, QR World!1\n"
          ]
        }
      ],
      "source": [
        "data_starting_indices = [\n",
        "    [grid_cells_num-7, grid_cells_num-1, UP],\n",
        "    [grid_cells_num-11, grid_cells_num-1, CCW],\n",
        "    [grid_cells_num-10, grid_cells_num-3, DOWN],\n",
        "    [grid_cells_num-6, grid_cells_num-3, DOWN],\n",
        "    [grid_cells_num-2, grid_cells_num-3, CW],\n",
        "    [grid_cells_num-3, grid_cells_num-5, UP],\n",
        "    [grid_cells_num-7, grid_cells_num-5, UP],\n",
        "    [grid_cells_num-11, grid_cells_num-5, CCW],\n",
        "    [grid_cells_num-10, grid_cells_num-7, DOWN],\n",
        "    [grid_cells_num-6, grid_cells_num-7, DOWN],\n",
        "    [grid_cells_num-2, grid_cells_num-7, CW],\n",
        "    [grid_cells_num-3, grid_cells_num-9, UP],\n",
        "    [grid_cells_num-7, grid_cells_num-9, UP],\n",
        "    [grid_cells_num-11, grid_cells_num-9, UP],\n",
        "    [grid_cells_num-16, grid_cells_num-9, UP],\n",
        "    [grid_cells_num-20, grid_cells_num-9, CCW],\n",
        "    [grid_cells_num-19, grid_cells_num-11, DOWN],\n",
        "    [grid_cells_num-14, grid_cells_num-11, DOWN],\n",
        "    [grid_cells_num-10, grid_cells_num-11, DOWN],\n",
        "    [grid_cells_num-6, grid_cells_num-11, DOWN],\n",
        "    # Hmm..? I actually don't know how to proceed now lol\n",
        "]\n",
        "\n",
        "ans = ''\n",
        "for a, b, d in data_starting_indices:\n",
        "    bits = apply_mask(a, b, d)\n",
        "    bit_string = ''.join([str(bit) for bit in bits])\n",
        "    if bit_string[:4] == \"0000\":\n",
        "        print(f'{bit_string[:4]} = 0 (NULL TERMINATOR)')\n",
        "        break\n",
        "    ans += chr(int(bit_string, 2)) # converts to binary to int, then to ASCII\n",
        "    print(f'{bit_string} = {ans[-1]}')\n",
        "\n",
        "print(f'\\nDecoded string: {ans}')"
      ]
    },
    {
      "cell_type": "markdown",
      "metadata": {
        "id": "wbOq-2i_tU09"
      },
      "source": [
        "# Another (more summarized) example"
      ]
    },
    {
      "cell_type": "code",
      "execution_count": null,
      "metadata": {
        "colab": {
          "base_uri": "https://localhost:8080/",
          "height": 615
        },
        "id": "zXm_9-zctNpB",
        "outputId": "2bb4d34b-a463-4ccd-86b0-9a99c721356f"
      },
      "outputs": [
        {
          "name": "stdout",
          "output_type": "stream",
          "text": [
            "00110001 = 1\n",
            "01110001 = q\n",
            "01100001 = a\n",
            "01111010 = z\n",
            "00100001 = !\n",
            "01010001 = Q\n",
            "01000001 = A\n",
            "01011010 = Z\n",
            "01000000 = @\n",
            "01010111 = W\n",
            "01010011 = S\n",
            "01011000 = X\n",
            "00101111 = /\n",
            "01011100 = \\\n",
            "00100111 = '\n",
            "01011011 = [\n",
            "01011101 = ]\n",
            "0000 = 0 (NULL TERMINATOR)\n",
            "\n",
            "Decoded string: 1qaz!QAZ@WSX/\\'[]\n"
          ]
        },
        {
          "data": {
            "image/png": "[encoded data removed]",
            "text/plain": [
              "<Figure size 300x300 with 1 Axes>"
            ]
          },
          "metadata": {},
          "output_type": "display_data"
        }
      ],
      "source": [
        "img = cv2.imread(\"QR_2_Symbols.png\", cv2.IMREAD_GRAYSCALE)\n",
        "_, img = cv2.threshold(img, 128, 255, cv2.THRESH_BINARY)\n",
        "fig = plt.figure(figsize=(3, 3));\n",
        "plt.xticks([], []);\n",
        "plt.yticks([], []);\n",
        "plt.imshow(img, cmap='gray')\n",
        "\n",
        "start_row = -1\n",
        "start_col = -1\n",
        "end_row = -1\n",
        "end_col = -1\n",
        "\n",
        "for row_index, row in enumerate(img):\n",
        "    for pixel in row:\n",
        "        if pixel != 255:\n",
        "            start_row = row_index\n",
        "            break\n",
        "    if start_row != -1:\n",
        "        break\n",
        "\n",
        "for row_index, row in enumerate(img[::-1]):\n",
        "    for pixel in row:\n",
        "        if pixel != 255:\n",
        "            end_row = img.shape[0] - row_index\n",
        "            break\n",
        "    if end_row != -1:\n",
        "        break\n",
        "\n",
        "for col_index, col in enumerate(cv2.transpose(img)):\n",
        "    for pixel in col:\n",
        "        if pixel != 255:\n",
        "            start_col = col_index\n",
        "            break\n",
        "    if start_col != -1:\n",
        "        break\n",
        "\n",
        "for col_index, col in enumerate(cv2.transpose(img)[::-1]):\n",
        "    for pixel in col:\n",
        "        if pixel != 255:\n",
        "            end_col = img.shape[1] - col_index\n",
        "            break\n",
        "    if end_col != -1:\n",
        "        break\n",
        "\n",
        "qr_no_quiet_zone = img[start_row:end_row, start_col:end_col]\n",
        "\n",
        "size = 0\n",
        "for pixel in qr_no_quiet_zone[0]:\n",
        "    if (pixel != 0): break\n",
        "    size += 1\n",
        "\n",
        "grid_cell_size = round(size/7)\n",
        "grid_cells_num = round(qr_no_quiet_zone.shape[0]/grid_cell_size)\n",
        "qr_cells = qr_no_quiet_zone.reshape((\n",
        "    grid_cells_num,\n",
        "    grid_cell_size,\n",
        "    grid_cells_num,\n",
        "    grid_cell_size,\n",
        ")).swapaxes(1, 2)\n",
        "\n",
        "qr_cells_numeric = np.ndarray((grid_cells_num, grid_cells_num), dtype=np.uint8)\n",
        "for i, row in enumerate(qr_cells):\n",
        "    for j, cell in enumerate(row):\n",
        "        qr_cells_numeric[i, j] = (np.median(cell) // 255)\n",
        "\n",
        "mask = [int(not(c)) for c in qr_cells_numeric[8, 2:5]]\n",
        "mask_str = ''.join([str(c) for c in mask])\n",
        "\n",
        "mask[0] ^= 1\n",
        "mask[2] ^= 1\n",
        "\n",
        "ans = ''\n",
        "for a, b, d in data_starting_indices:\n",
        "    bits = apply_mask(a, b, d)\n",
        "    bit_string = ''.join([str(bit) for bit in bits])\n",
        "    if bit_string[:4] == \"0000\":\n",
        "        print(f'{bit_string[:4]} = 0 (NULL TERMINATOR)')\n",
        "        break\n",
        "    ans += chr(int(bit_string, 2)) # converts to binary to int, then to ASCII\n",
        "    print(f'{bit_string} = {ans[-1]}')\n",
        "\n",
        "print(f'\\nDecoded string: {ans}')"
      ]
    },
    {
      "cell_type": "markdown",
      "metadata": {
        "id": "xoSz2259vL-e"
      },
      "source": [
        "<hr/>\n",
        "\n",
        "Now your job is to include redundant data, look into the error correcting mechanism(s), and perhaps look into newer QR code versions (although that will probably be too difficult, so keep that as a challenge if you find everything else easy). *Good luck :)*"
      ]
    },
    {
      "cell_type": "markdown",
      "metadata": {
        "id": "vePIp9oo5cdD"
      },
      "source": [
        "**Here's for example the structure of a version 3 QR code:**\n",
        "![Version 3 QR Code illustrating interleaved Reed-Solomon blocks](https://upload.wikimedia.org/wikipedia/commons/thumb/7/77/QR_Ver3_Codeword_Ordering.svg/1280px-QR_Ver3_Codeword_Ordering.svg.png)\n",
        "> Version 3 QR Code illustrating interleaved Reed-Solomon blocks"
      ]
    }
  ],
  "metadata": {
    "colab": {
      "provenance": [],
      "toc_visible": true
    },
    "kernelspec": {
      "display_name": "Python 3",
      "name": "python3"
    },
    "language_info": {
      "codemirror_mode": {
        "name": "ipython",
        "version": 3
      },
      "file_extension": ".py",
      "mimetype": "text/x-python",
      "name": "python",
      "nbconvert_exporter": "python",
      "pygments_lexer": "ipython3",
      "version": "3.11.2"
    }
  },
  "nbformat": 4,
  "nbformat_minor": 0
}
